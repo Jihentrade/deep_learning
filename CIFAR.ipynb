{
  "cells": [
    {
      "cell_type": "markdown",
      "metadata": {
        "id": "DmuczJo5vnUj"
      },
      "source": [
        "https://pytorch.org/tutorials/beginner/blitz/cifar10_tutorial.html"
      ]
    },
    {
      "cell_type": "markdown",
      "metadata": {
        "id": "Acny40JkW4mc"
      },
      "source": [
        "The Convolutional Neural Network (CNN or ConvNet) is a subtype of Neural Networks that is mainly used for applications in image and speech recognition. Its built-in convolutional layer reduces the high dimensionality of images without losing its information. That is why CNNs are especially suited for this use case.\n",
        "\n",
        "Lorsque vous utilisez une architecture de CNN, vous utilisez deux types de fonctionnalités artisanales : les convolutional layers (les filtres de convolution) et les pooling layers (les filtres de regroupement).\n",
        "Le but du CNN est de transformer notre image de départ en vecteur qui serait la représentation vectorielle des caractéristiques de notre image."
      ]
    },
    {
      "cell_type": "code",
      "execution_count": 1,
      "metadata": {
        "colab": {
          "base_uri": "https://localhost:8080/"
        },
        "id": "arh-QSWkW4me",
        "outputId": "52293c89-5862-4c95-d3ee-53b1e4a7c766"
      },
      "outputs": [
        {
          "output_type": "stream",
          "name": "stdout",
          "text": [
            "Looking in indexes: https://pypi.org/simple, https://us-python.pkg.dev/colab-wheels/public/simple/\n",
            "Looking in links: https://download.pytorch.org/whl/torch_stable.html\n",
            "Collecting torch==1.8.1+cu111\n",
            "  Downloading https://download.pytorch.org/whl/cu111/torch-1.8.1%2Bcu111-cp37-cp37m-linux_x86_64.whl (1982.2 MB)\n",
            "\u001b[K     |█████████████▌                  | 834.1 MB 1.3 MB/s eta 0:14:42tcmalloc: large alloc 1147494400 bytes == 0x3ab34000 @  0x7f4bf718d615 0x58ead6 0x4f355e 0x4d222f 0x51041f 0x5b4ee6 0x58ff2e 0x510325 0x5b4ee6 0x58ff2e 0x50d482 0x4d00fb 0x50cb8d 0x4d00fb 0x50cb8d 0x4d00fb 0x50cb8d 0x4bac0a 0x538a76 0x590ae5 0x510280 0x5b4ee6 0x58ff2e 0x50d482 0x5b4ee6 0x58ff2e 0x50c4fc 0x58fd37 0x50ca37 0x5b4ee6 0x58ff2e\n",
            "\u001b[K     |█████████████████               | 1055.7 MB 1.3 MB/s eta 0:11:44tcmalloc: large alloc 1434370048 bytes == 0x7f18a000 @  0x7f4bf718d615 0x58ead6 0x4f355e 0x4d222f 0x51041f 0x5b4ee6 0x58ff2e 0x510325 0x5b4ee6 0x58ff2e 0x50d482 0x4d00fb 0x50cb8d 0x4d00fb 0x50cb8d 0x4d00fb 0x50cb8d 0x4bac0a 0x538a76 0x590ae5 0x510280 0x5b4ee6 0x58ff2e 0x50d482 0x5b4ee6 0x58ff2e 0x50c4fc 0x58fd37 0x50ca37 0x5b4ee6 0x58ff2e\n",
            "\u001b[K     |█████████████████████▋          | 1336.2 MB 1.2 MB/s eta 0:08:43tcmalloc: large alloc 1792966656 bytes == 0x3fbc000 @  0x7f4bf718d615 0x58ead6 0x4f355e 0x4d222f 0x51041f 0x5b4ee6 0x58ff2e 0x510325 0x5b4ee6 0x58ff2e 0x50d482 0x4d00fb 0x50cb8d 0x4d00fb 0x50cb8d 0x4d00fb 0x50cb8d 0x4bac0a 0x538a76 0x590ae5 0x510280 0x5b4ee6 0x58ff2e 0x50d482 0x5b4ee6 0x58ff2e 0x50c4fc 0x58fd37 0x50ca37 0x5b4ee6 0x58ff2e\n",
            "\u001b[K     |███████████████████████████▎    | 1691.1 MB 1.2 MB/s eta 0:04:10tcmalloc: large alloc 2241208320 bytes == 0x6eda4000 @  0x7f4bf718d615 0x58ead6 0x4f355e 0x4d222f 0x51041f 0x5b4ee6 0x58ff2e 0x510325 0x5b4ee6 0x58ff2e 0x50d482 0x4d00fb 0x50cb8d 0x4d00fb 0x50cb8d 0x4d00fb 0x50cb8d 0x4bac0a 0x538a76 0x590ae5 0x510280 0x5b4ee6 0x58ff2e 0x50d482 0x5b4ee6 0x58ff2e 0x50c4fc 0x58fd37 0x50ca37 0x5b4ee6 0x58ff2e\n",
            "\u001b[K     |████████████████████████████████| 1982.2 MB 1.2 MB/s eta 0:00:01tcmalloc: large alloc 1982177280 bytes == 0xf4706000 @  0x7f4bf718c1e7 0x4b2590 0x4b261c 0x58ead6 0x4f355e 0x4d222f 0x51041f 0x5b4ee6 0x58ff2e 0x50ca37 0x5b4ee6 0x58ff2e 0x50ca37 0x5b4ee6 0x58ff2e 0x50ca37 0x5b4ee6 0x58ff2e 0x50ca37 0x5b4ee6 0x58ff2e 0x50ca37 0x58fd37 0x50ca37 0x5b4ee6 0x58ff2e 0x50d482 0x5b4ee6 0x58ff2e 0x50d482 0x5b4ee6\n",
            "tcmalloc: large alloc 2477727744 bytes == 0x1dee1c000 @  0x7f4bf718d615 0x58ead6 0x4f355e 0x4d222f 0x51041f 0x5b4ee6 0x58ff2e 0x50ca37 0x5b4ee6 0x58ff2e 0x50ca37 0x5b4ee6 0x58ff2e 0x50ca37 0x5b4ee6 0x58ff2e 0x50ca37 0x5b4ee6 0x58ff2e 0x50ca37 0x58fd37 0x50ca37 0x5b4ee6 0x58ff2e 0x50d482 0x5b4ee6 0x58ff2e 0x50d482 0x5b4ee6 0x4bad99 0x4d3249\n",
            "\u001b[K     |████████████████████████████████| 1982.2 MB 2.9 kB/s \n",
            "\u001b[?25hCollecting torchvision==0.9.1+cu111\n",
            "  Downloading https://download.pytorch.org/whl/cu111/torchvision-0.9.1%2Bcu111-cp37-cp37m-linux_x86_64.whl (17.6 MB)\n",
            "\u001b[K     |████████████████████████████████| 17.6 MB 60.3 MB/s \n",
            "\u001b[?25hCollecting torchaudio===0.8.1\n",
            "  Downloading torchaudio-0.8.1-cp37-cp37m-manylinux1_x86_64.whl (1.9 MB)\n",
            "\u001b[K     |████████████████████████████████| 1.9 MB 12.4 MB/s \n",
            "\u001b[?25hRequirement already satisfied: numpy in /usr/local/lib/python3.7/dist-packages (from torch==1.8.1+cu111) (1.21.6)\n",
            "Requirement already satisfied: typing-extensions in /usr/local/lib/python3.7/dist-packages (from torch==1.8.1+cu111) (4.1.1)\n",
            "Requirement already satisfied: pillow>=4.1.1 in /usr/local/lib/python3.7/dist-packages (from torchvision==0.9.1+cu111) (7.1.2)\n",
            "Installing collected packages: torch, torchvision, torchaudio\n",
            "  Attempting uninstall: torch\n",
            "    Found existing installation: torch 1.12.1+cu113\n",
            "    Uninstalling torch-1.12.1+cu113:\n",
            "      Successfully uninstalled torch-1.12.1+cu113\n",
            "  Attempting uninstall: torchvision\n",
            "    Found existing installation: torchvision 0.13.1+cu113\n",
            "    Uninstalling torchvision-0.13.1+cu113:\n",
            "      Successfully uninstalled torchvision-0.13.1+cu113\n",
            "  Attempting uninstall: torchaudio\n",
            "    Found existing installation: torchaudio 0.12.1+cu113\n",
            "    Uninstalling torchaudio-0.12.1+cu113:\n",
            "      Successfully uninstalled torchaudio-0.12.1+cu113\n",
            "\u001b[31mERROR: pip's dependency resolver does not currently take into account all the packages that are installed. This behaviour is the source of the following dependency conflicts.\n",
            "torchtext 0.13.1 requires torch==1.12.1, but you have torch 1.8.1+cu111 which is incompatible.\u001b[0m\n",
            "Successfully installed torch-1.8.1+cu111 torchaudio-0.8.1 torchvision-0.9.1+cu111\n"
          ]
        }
      ],
      "source": [
        "!pip3 install torch==1.8.1+cu111 torchvision==0.9.1+cu111 torchaudio===0.8.1 -f https://download.pytorch.org/whl/torch_stable.html"
      ]
    },
    {
      "cell_type": "code",
      "execution_count": 2,
      "metadata": {
        "id": "xizp_z-9nceE"
      },
      "outputs": [],
      "source": [
        "import torch\n",
        "from torchvision.transforms import Compose, ToTensor, Normalize, transforms\n",
        "from torchvision.datasets import CIFAR10\n",
        "from torchvision.utils import make_grid\n",
        "from torch.utils.data import DataLoader,random_split\n",
        "import matplotlib.pyplot as plt\n",
        "import numpy as np\n",
        "from torchsummary import summary"
      ]
    },
    {
      "cell_type": "code",
      "execution_count": 3,
      "metadata": {
        "colab": {
          "base_uri": "https://localhost:8080/",
          "height": 399,
          "referenced_widgets": [
            "79003021b76442f88d7322fc34f497f1",
            "417064bf882a441ab487e75452e679c0",
            "5ead7e4cbf1f4fbe86ad20661281c38e",
            "be1ed5d1490341afb681601ef2683764",
            "b7c425148ee647c49f3564e367b32868",
            "ff00810d8d0e472b813144b0a4c278eb",
            "5b525d24c36449c287c4054296972a38",
            "049cbb6601514aecaa80c03e741bcdf2",
            "b140b6a41cd948a3afd89ae04b963ce3",
            "3f5ad5b0988a42348ab3680f645ebec5",
            "d2cea6f780064abb95e034ce089dc5a7",
            "0075c741e21347c3bc3dc4ee24b750c7",
            "0be5e0386df64e25864745c7a1f67eeb",
            "f258e448ac9045a1990bec312da0b70d",
            "3658ac66a36a42468f5c7d3502e3c448",
            "9ec1a73b9eb7443c988c703874a61360",
            "17a4d05266494911ad9f403c83ee1747",
            "a1c3dda0d74946bf98db093079d2a7e6",
            "ba4eb5b0f8e44c44bae79aebd6c1c670",
            "8e028dee38c14c59acd11a6b741cdf12",
            "90e70b2218f644bd9ebc380a993fb819",
            "2389a9354ef747ea833d34dc90c4d74a"
          ]
        },
        "id": "febIql4cpcUC",
        "outputId": "627f774b-6153-422b-c5b8-f6313efc3d23"
      },
      "outputs": [
        {
          "output_type": "stream",
          "name": "stdout",
          "text": [
            "Downloading https://www.cs.toronto.edu/~kriz/cifar-10-python.tar.gz to ./CIFAR10/train/cifar-10-python.tar.gz\n"
          ]
        },
        {
          "output_type": "display_data",
          "data": {
            "text/plain": [
              "  0%|          | 0/170498071 [00:00<?, ?it/s]"
            ],
            "application/vnd.jupyter.widget-view+json": {
              "version_major": 2,
              "version_minor": 0,
              "model_id": "79003021b76442f88d7322fc34f497f1"
            }
          },
          "metadata": {}
        },
        {
          "output_type": "stream",
          "name": "stdout",
          "text": [
            "Extracting ./CIFAR10/train/cifar-10-python.tar.gz to ./CIFAR10/train\n",
            "Downloading https://www.cs.toronto.edu/~kriz/cifar-10-python.tar.gz to ./CIFAR10/test/cifar-10-python.tar.gz\n"
          ]
        },
        {
          "output_type": "display_data",
          "data": {
            "text/plain": [
              "  0%|          | 0/170498071 [00:00<?, ?it/s]"
            ],
            "application/vnd.jupyter.widget-view+json": {
              "version_major": 2,
              "version_minor": 0,
              "model_id": "0075c741e21347c3bc3dc4ee24b750c7"
            }
          },
          "metadata": {}
        },
        {
          "output_type": "stream",
          "name": "stdout",
          "text": [
            "Extracting ./CIFAR10/test/cifar-10-python.tar.gz to ./CIFAR10/test\n"
          ]
        },
        {
          "output_type": "execute_result",
          "data": {
            "text/plain": [
              "(-0.5, 165.5, 165.5, -0.5)"
            ]
          },
          "metadata": {},
          "execution_count": 3
        },
        {
          "output_type": "display_data",
          "data": {
            "text/plain": [
              "<Figure size 432x288 with 1 Axes>"
            ],
            "image/png": "[encoded data removed]"
          },
          "metadata": {
            "needs_background": "light"
          }
        }
      ],
      "source": [
        "#Initializing normalizing transform for the dataset\n",
        "normalize_transform = Compose([ToTensor(), Normalize(mean = (0.5, 0.5, 0.5), std = (0.5, 0.5, 0.5))])\n",
        "transform_augmentation=Compose([transforms.ToTensor(), transforms.RandomHorizontalFlip(), transforms.RandomRotation(15), \n",
        "                               transforms.Normalize(mean = (0.5, 0.5, 0.5), std = (0.5, 0.5, 0.5))])\n",
        "\n",
        "#Downloading the CIFAR10 dataset into train and test sets\n",
        "train_dataset = CIFAR10(root=\"./CIFAR10/train\", train=True, transform=normalize_transform, download=True)\n",
        "test_set = CIFAR10(root=\"./CIFAR10/test\", train=False, transform=normalize_transform, download=True)\n",
        "\t\n",
        "#Generating data loaders from the corresponding datasets\n",
        "batch_size = 128\n",
        "trainset_size = round(len(train_dataset) * 0.8)\n",
        "validset_size = len(train_dataset) - trainset_size\n",
        "trainset, validset = random_split(train_dataset, [trainset_size, validset_size])\n",
        "\n",
        "train_dl = DataLoader(trainset, batch_size=batch_size, shuffle=True)\n",
        "valid_dl = DataLoader(validset, batch_size=batch_size, shuffle=True)\n",
        "test_dl = DataLoader(test_set, batch_size=batch_size, shuffle=False)\n",
        "\n",
        "#Plotting 25 images from the 1st batch\n",
        "dataiter = iter(train_dl)\n",
        "images, labels = dataiter.next()\n",
        "plt.imshow(np.transpose(make_grid(images[:25], normalize=True, padding=1, nrow=5).numpy(), (1, 2, 0)))\n",
        "plt.axis('off')"
      ]
    },
    {
      "cell_type": "code",
      "execution_count": 4,
      "metadata": {
        "colab": {
          "base_uri": "https://localhost:8080/",
          "height": 296
        },
        "id": "yZeH30X9sip5",
        "outputId": "3ce5954b-3712-4d1e-d6f9-ba52e074d899"
      },
      "outputs": [
        {
          "output_type": "execute_result",
          "data": {
            "text/plain": [
              "Text(0, 0.5, 'Number of training instances')"
            ]
          },
          "metadata": {},
          "execution_count": 4
        },
        {
          "output_type": "display_data",
          "data": {
            "text/plain": [
              "<Figure size 432x288 with 1 Axes>"
            ],
            "image/png": "[encoded data removed]"
          },
          "metadata": {
            "needs_background": "light"
          }
        }
      ],
      "source": [
        "\n",
        "#Iterating over the training dataset and storing the target class for each sample\n",
        "classes = []\n",
        "for batch_idx, data in enumerate(train_dl, 0):\n",
        "    x, y = data \n",
        "    classes.extend(y.tolist())\n",
        "      \n",
        "#Calculating the unique classes and the respective counts and plotting them\n",
        "unique, counts = np.unique(classes, return_counts=True)\n",
        "names = list(test_set.class_to_idx.keys())\n",
        "plt.bar(names, counts)\n",
        "plt.xlabel(\"Target Classes\")\n",
        "plt.ylabel(\"Number of training instances\")"
      ]
    },
    {
      "cell_type": "code",
      "execution_count": 5,
      "metadata": {
        "id": "QyF2XRVvndck"
      },
      "outputs": [],
      "source": [
        "class CNN(torch.nn.Module):\n",
        "  def __init__(self):\n",
        "    super().__init__()\n",
        "    self.model = torch.nn.Sequential(\n",
        "        #Input = 3 x 32 x 32, Output = 32 x 32 x 32\n",
        "\t\t\t  torch.nn.Conv2d(in_channels=3, out_channels=32, kernel_size=3, padding=1),\n",
        "\t\t\t\ttorch.nn.BatchNorm2d(32),\n",
        "\t\t\t  torch.nn.ReLU(),\n",
        "\t\t\t  #Input = 32 x 32 x 32, Output = 32 x 16 x 16\n",
        "\t\t\t  torch.nn.MaxPool2d(kernel_size=2),\n",
        "\n",
        "\t\t\t  #Input = 32 x 16 x 16, Output = 64 x 16 x 16\n",
        "\t\t\t  torch.nn.Conv2d(in_channels=32, out_channels=64, kernel_size=3, padding=1),\n",
        "\t\t\t\ttorch.nn.BatchNorm2d(64),\n",
        "\t\t\t  torch.nn.ReLU(),\n",
        "\t\t\t  #Input = 64 x 16 x 16, Output = 64 x 8 x 8\n",
        "\t\t\t  torch.nn.MaxPool2d(kernel_size=2),\n",
        "\t\t\t\ttorch.nn.BatchNorm2d(64),\n",
        "\t\t\t  #Input = 64 x 8 x 8, Output = 64 x 8 x 8\n",
        "\t\t\t  torch.nn.Conv2d(in_channels=64, out_channels=64, kernel_size=3, padding=1),\n",
        "\t\t\t\ttorch.nn.BatchNorm2d(64),\n",
        "\t\t\t  torch.nn.ReLU(),\n",
        "\t\t\t  #Input = 64 x 8 x 8, Output = 64 x 4 x 4\n",
        "\t\t\t  torch.nn.MaxPool2d(kernel_size=2),\n",
        "\n",
        "\t\t\t  torch.nn.Flatten(),\n",
        "\t\t\t  torch.nn.Linear(64*4*4, 512),\n",
        "\t\t\t  torch.nn.ReLU(),\n",
        "\t\t\t\ttorch.nn.Dropout(0.25),\n",
        "\t\t\t  torch.nn.Linear(512, 10))\n",
        "  \n",
        "  def forward(self, x):\n",
        "    return self.model(x)"
      ]
    },
    {
      "cell_type": "code",
      "execution_count": 6,
      "metadata": {
        "id": "MUrANkATv6YH"
      },
      "outputs": [],
      "source": [
        "def evaluation(model, device, test_dl):\n",
        "  model.eval()\n",
        "  total = 0.0; correct = 0.0 \n",
        "  with torch.no_grad():\n",
        "    for data in test_dl:\n",
        "      inputs = data[0].to(device)\n",
        "      labels = data[1].to(device)\n",
        "      outputs = model(inputs.view(inputs.shape[0], -1))\n",
        "      _, predicted = torch.max(outputs.data, 1)      \n",
        "      total += labels.size(0)\n",
        "      correct += (predicted == labels).sum().item()\n",
        "  accuracy = correct/total\n",
        "  return accuracy\n",
        "\n"
      ]
    },
    {
      "cell_type": "code",
      "execution_count": 7,
      "metadata": {
        "id": "0NsOg3Qq8jVT"
      },
      "outputs": [],
      "source": [
        "# compute the loss on validation set for early stopping\n",
        "def validation(model, device, valid_dl, criterion): # device = cpu ou cuda , criterion= Mean squared error MSE for regression, Binary Cross Entropy BCE for binary classification and Cross Entropy for multi classification\n",
        "  model.eval() # Sets the module in evaluation mode , c'est à dire training = False\n",
        "  loss_total = 0\n",
        "  with torch.no_grad(): \n",
        "    \"\"\"every time you do a forward pass with a torch model (and you are not in a torch.no_grad() block), then gradients will accumulate for the weight tensors of the model, \n",
        "  so that when you go to do the backward pass, the gradients are already there and just need to be multiplied that's why we use with torch.no_grad\"\"\"\n",
        "    for i, (images, labels) in enumerate(valid_dl):\n",
        "      images = images.to(device)\n",
        "      labels = labels.to(device)\n",
        "      #Calculating the model output and the cross entropy loss\n",
        "      outputs = model(images)\n",
        "      \"\"\" Because the input layer of an MLP takes 1D tensors, we need to reshape 2-dimensional MNIST image data into 1-dimensional data. This process is technically called flattening the image. \"\"\"\n",
        "      loss = criterion(outputs, labels)\n",
        "      loss_total += loss.item()\n",
        "  \n",
        "  return loss_total / len(valid_dl)"
      ]
    },
    {
      "cell_type": "code",
      "execution_count": 8,
      "metadata": {
        "colab": {
          "base_uri": "https://localhost:8080/"
        },
        "id": "wj09ClqE7AYc",
        "outputId": "0f17417a-c638-4ee7-83cb-ce4d853b998a"
      },
      "outputs": [
        {
          "output_type": "stream",
          "name": "stdout",
          "text": [
            "----------------------------------------------------------------\n",
            "        Layer (type)               Output Shape         Param #\n",
            "================================================================\n",
            "            Conv2d-1           [-1, 32, 32, 32]             896\n",
            "       BatchNorm2d-2           [-1, 32, 32, 32]              64\n",
            "              ReLU-3           [-1, 32, 32, 32]               0\n",
            "         MaxPool2d-4           [-1, 32, 16, 16]               0\n",
            "            Conv2d-5           [-1, 64, 16, 16]          18,496\n",
            "       BatchNorm2d-6           [-1, 64, 16, 16]             128\n",
            "              ReLU-7           [-1, 64, 16, 16]               0\n",
            "         MaxPool2d-8             [-1, 64, 8, 8]               0\n",
            "       BatchNorm2d-9             [-1, 64, 8, 8]             128\n",
            "           Conv2d-10             [-1, 64, 8, 8]          36,928\n",
            "      BatchNorm2d-11             [-1, 64, 8, 8]             128\n",
            "             ReLU-12             [-1, 64, 8, 8]               0\n",
            "        MaxPool2d-13             [-1, 64, 4, 4]               0\n",
            "          Flatten-14                 [-1, 1024]               0\n",
            "           Linear-15                  [-1, 512]         524,800\n",
            "             ReLU-16                  [-1, 512]               0\n",
            "          Dropout-17                  [-1, 512]               0\n",
            "           Linear-18                   [-1, 10]           5,130\n",
            "================================================================\n",
            "Total params: 586,698\n",
            "Trainable params: 586,698\n",
            "Non-trainable params: 0\n",
            "----------------------------------------------------------------\n",
            "Input size (MB): 0.01\n",
            "Forward/backward pass size (MB): 1.37\n",
            "Params size (MB): 2.24\n",
            "Estimated Total Size (MB): 3.62\n",
            "----------------------------------------------------------------\n",
            "[1/50, 0/313] loss: 2.3723104\n",
            "[1/50, 100/313] loss: 1.1955518\n",
            "[1/50, 200/313] loss: 1.2190514\n",
            "[1/50, 300/313] loss: 1.0089173\n",
            "trigger times 0\n",
            "[2/50, 0/313] loss: 1.1871015\n",
            "[2/50, 100/313] loss: 1.0563716\n",
            "[2/50, 200/313] loss: 0.81961149\n",
            "[2/50, 300/313] loss: 0.78122813\n",
            "trigger times 0\n",
            "[3/50, 0/313] loss: 0.89173365\n",
            "[3/50, 100/313] loss: 0.84559155\n",
            "[3/50, 200/313] loss: 0.86710584\n",
            "[3/50, 300/313] loss: 0.81168687\n",
            "trigger times 1\n",
            "trigger times 1\n",
            "[4/50, 0/313] loss: 0.79366976\n",
            "[4/50, 100/313] loss: 0.78396732\n",
            "[4/50, 200/313] loss: 0.90038043\n",
            "[4/50, 300/313] loss: 0.83741629\n",
            "trigger times 1\n",
            "[5/50, 0/313] loss: 0.75364119\n",
            "[5/50, 100/313] loss: 0.66391212\n",
            "[5/50, 200/313] loss: 0.85434514\n",
            "[5/50, 300/313] loss: 0.75531542\n",
            "trigger times 1\n",
            "[6/50, 0/313] loss: 0.64719915\n",
            "[6/50, 100/313] loss: 0.64727932\n",
            "[6/50, 200/313] loss: 0.86517364\n",
            "[6/50, 300/313] loss: 0.74540228\n",
            "trigger times 1\n",
            "[7/50, 0/313] loss: 0.67922717\n",
            "[7/50, 100/313] loss: 0.6327405\n",
            "[7/50, 200/313] loss: 0.67367864\n",
            "[7/50, 300/313] loss: 0.59538519\n",
            "trigger times 2\n",
            "Perform Early stopping!\n"
          ]
        }
      ],
      "source": [
        "# Training \n",
        "def train_model(model, device, epochs, optimizer, criterion, train_dl, valid_dl):\n",
        "  last_loss = 100; patience = 2; triggertimes = 0; train_loss_list = []\n",
        "\n",
        "  \"\"\" patience: Number of epochs with no improvement after which training will be stopped\n",
        "      triggertimes: combine on va attendre aprés les 2 epochs \"\"\"    \n",
        "  for epoch in range(1,epochs+1):\n",
        "    model.train() # Sets the module in traininng mode\n",
        "    for i, (images, labels) in enumerate(train_dl):\n",
        "      #Extracting images and target labels for the batch being iterated\n",
        "      images = images.to(device)\n",
        "      labels = labels.to(device)\n",
        "      #Calculating the model output and the cross entropy loss\n",
        "      outputs = model(images)\n",
        "      loss = criterion(outputs, labels)\n",
        "\n",
        "      # Zero the gradients\n",
        "      optimizer.zero_grad()\n",
        "      # Forward and backward propagation     \n",
        "      loss.backward()\n",
        "      optimizer.step() # mettre à jour les paramètres\n",
        "      # Show progress\n",
        "      if i % 100 == 0 or i == len(train_dl):\n",
        "        print('[{}/{}, {}/{}] loss: {:.8}'.format(epoch, epochs, i, len(train_dl), loss.item()))\n",
        "    \n",
        "    # Early stopping\n",
        "    current_loss = validation(model, device, valid_dl, criterion)\n",
        "    if current_loss > last_loss:\n",
        "      triggertimes += 1 \n",
        "      print('trigger times', triggertimes)       \n",
        "    if triggertimes >= patience:\n",
        "      print('Perform Early stopping!')\n",
        "      return model\n",
        "    else:\n",
        "      trigger_times = 0 \n",
        "      print('trigger times', triggertimes)          \n",
        "    last_loss = current_loss\n",
        "    train_loss_list.append(last_loss/len(train_dl))\n",
        "    \n",
        "  return model\n",
        "device = 'cuda' if torch.cuda.is_available() else 'cpu'\n",
        "model = CNN().to(device)\n",
        "summary(model,(3,32,32))\n",
        "#Defining the model hyper parameters\n",
        "epochs = 50\n",
        "learning_rate = 0.001\n",
        "weight_decay = 0.01\n",
        "criterion = torch.nn.CrossEntropyLoss()\n",
        "optimizer = torch.optim.Adam(model.parameters(), lr=learning_rate, weight_decay=weight_decay)\n",
        "model = train_model(model, device, epochs, optimizer, criterion, train_dl, valid_dl)"
      ]
    },
    {
      "cell_type": "code",
      "execution_count": 9,
      "metadata": {
        "id": "twIL6JF142kS",
        "colab": {
          "base_uri": "https://localhost:8080/"
        },
        "outputId": "d131b870-e8f4-4ac1-f3ef-b77892e9222f"
      },
      "outputs": [
        {
          "output_type": "stream",
          "name": "stdout",
          "text": [
            "Test set accuracy = 72.5 %\n"
          ]
        }
      ],
      "source": [
        "# evaulate model on test dataset\n",
        "test_acc=0\n",
        "model.eval()\n",
        "\n",
        "with torch.no_grad():\n",
        "\t#Iterating over the test dataset in batches\n",
        "\tfor i, (images, labels) in enumerate(test_dl):\n",
        "\t\t\n",
        "\t\timages = images.to(device)\n",
        "\t\ty_true = labels.to(device)\n",
        "\t\t\n",
        "\t\t#Calculating outputs for the batch being iterated\n",
        "\t\toutputs = model(images)\n",
        "\t\t\n",
        "\t\t#Calculated prediction labels from models\n",
        "\t\t_, y_pred = torch.max(outputs.data, 1)\n",
        "\t\t\n",
        "\t\t#Comparing predicted and true labels\n",
        "\t\ttest_acc += (y_pred == y_true).sum().item()\n",
        "\t\n",
        "\tprint(f\"Test set accuracy = {100 * test_acc / len(test_set)} %\")\n"
      ]
    },
    {
      "cell_type": "code",
      "execution_count": 10,
      "metadata": {
        "colab": {
          "base_uri": "https://localhost:8080/",
          "height": 132
        },
        "id": "mruGudpbwExt",
        "outputId": "20ba5414-7f1c-43a0-8bcc-a90795416b0f"
      },
      "outputs": [
        {
          "output_type": "execute_result",
          "data": {
            "text/plain": [
              "(-0.5, 165.5, 33.5, -0.5)"
            ]
          },
          "metadata": {},
          "execution_count": 10
        },
        {
          "output_type": "display_data",
          "data": {
            "text/plain": [
              "<Figure size 432x288 with 1 Axes>"
            ],
            "image/png": "[encoded data removed]"
          },
          "metadata": {
            "needs_background": "light"
          }
        }
      ],
      "source": [
        "#Generating predictions for 'num_images' amount of images from the last batch of test set\n",
        "num_images = 5\n",
        "y_true_name = [names[y_true[idx]] for idx in range(num_images)]\n",
        "y_pred_name = [names[y_pred[idx]] for idx in range(num_images)]\n",
        "\n",
        "#Generating the title for the plot\n",
        "title = f\"Actual labels: {y_true_name}, Predicted labels: {y_pred_name}\"\n",
        "\n",
        "#Finally plotting the images with their actual and predicted labels in the title\n",
        "plt.imshow(np.transpose(make_grid(images[:num_images].cpu(), normalize=True, padding=1).numpy(), (1, 2, 0)))\n",
        "plt.title(title)\n",
        "plt.axis(\"off\")"
      ]
    }
  ],
  "metadata": {
    "accelerator": "GPU",
    "colab": {
      "provenance": []
    },
    "gpuClass": "standard",
    "kernelspec": {
      "display_name": "Python 3.9.7 ('base')",
      "language": "python",
      "name": "python3"
    },
    "language_info": {
      "codemirror_mode": {
        "name": "ipython",
        "version": 3
      },
      "file_extension": ".py",
      "mimetype": "text/x-python",
      "name": "python",
      "nbconvert_exporter": "python",
      "pygments_lexer": "ipython3",
      "version": "3.9.7"
    },
    "vscode": {
      "interpreter": {
        "hash": "3c83506bc0c9d09408835bc55ca91ed883725714d894101e242cf2a4d97c3e82"
      }
    },
    "widgets": {
      "application/vnd.jupyter.widget-state+json": {
        "79003021b76442f88d7322fc34f497f1": {
          "model_module": "@jupyter-widgets/controls",
          "model_name": "HBoxModel",
          "model_module_version": "1.5.0",
          "state": {
            "_dom_classes": [],
            "_model_module": "@jupyter-widgets/controls",
            "_model_module_version": "1.5.0",
            "_model_name": "HBoxModel",
            "_view_count": null,
            "_view_module": "@jupyter-widgets/controls",
            "_view_module_version": "1.5.0",
            "_view_name": "HBoxView",
            "box_style": "",
            "children": [
              "IPY_MODEL_417064bf882a441ab487e75452e679c0",
              "IPY_MODEL_5ead7e4cbf1f4fbe86ad20661281c38e",
              "IPY_MODEL_be1ed5d1490341afb681601ef2683764"
            ],
            "layout": "IPY_MODEL_b7c425148ee647c49f3564e367b32868"
          }
        },
        "417064bf882a441ab487e75452e679c0": {
          "model_module": "@jupyter-widgets/controls",
          "model_name": "HTMLModel",
          "model_module_version": "1.5.0",
          "state": {
            "_dom_classes": [],
            "_model_module": "@jupyter-widgets/controls",
            "_model_module_version": "1.5.0",
            "_model_name": "HTMLModel",
            "_view_count": null,
            "_view_module": "@jupyter-widgets/controls",
            "_view_module_version": "1.5.0",
            "_view_name": "HTMLView",
            "description": "",
            "description_tooltip": null,
            "layout": "IPY_MODEL_ff00810d8d0e472b813144b0a4c278eb",
            "placeholder": "​",
            "style": "IPY_MODEL_5b525d24c36449c287c4054296972a38",
            "value": ""
          }
        },
        "5ead7e4cbf1f4fbe86ad20661281c38e": {
          "model_module": "@jupyter-widgets/controls",
          "model_name": "FloatProgressModel",
          "model_module_version": "1.5.0",
          "state": {
            "_dom_classes": [],
            "_model_module": "@jupyter-widgets/controls",
            "_model_module_version": "1.5.0",
            "_model_name": "FloatProgressModel",
            "_view_count": null,
            "_view_module": "@jupyter-widgets/controls",
            "_view_module_version": "1.5.0",
            "_view_name": "ProgressView",
            "bar_style": "success",
            "description": "",
            "description_tooltip": null,
            "layout": "IPY_MODEL_049cbb6601514aecaa80c03e741bcdf2",
            "max": 170498071,
            "min": 0,
            "orientation": "horizontal",
            "style": "IPY_MODEL_b140b6a41cd948a3afd89ae04b963ce3",
            "value": 170498071
          }
        },
        "be1ed5d1490341afb681601ef2683764": {
          "model_module": "@jupyter-widgets/controls",
          "model_name": "HTMLModel",
          "model_module_version": "1.5.0",
          "state": {
            "_dom_classes": [],
            "_model_module": "@jupyter-widgets/controls",
            "_model_module_version": "1.5.0",
            "_model_name": "HTMLModel",
            "_view_count": null,
            "_view_module": "@jupyter-widgets/controls",
            "_view_module_version": "1.5.0",
            "_view_name": "HTMLView",
            "description": "",
            "description_tooltip": null,
            "layout": "IPY_MODEL_3f5ad5b0988a42348ab3680f645ebec5",
            "placeholder": "​",
            "style": "IPY_MODEL_d2cea6f780064abb95e034ce089dc5a7",
            "value": " 170499072/? [00:01&lt;00:00, 97056709.27it/s]"
          }
        },
        "b7c425148ee647c49f3564e367b32868": {
          "model_module": "@jupyter-widgets/base",
          "model_name": "LayoutModel",
          "model_module_version": "1.2.0",
          "state": {
            "_model_module": "@jupyter-widgets/base",
            "_model_module_version": "1.2.0",
            "_model_name": "LayoutModel",
            "_view_count": null,
            "_view_module": "@jupyter-widgets/base",
            "_view_module_version": "1.2.0",
            "_view_name": "LayoutView",
            "align_content": null,
            "align_items": null,
            "align_self": null,
            "border": null,
            "bottom": null,
            "display": null,
            "flex": null,
            "flex_flow": null,
            "grid_area": null,
            "grid_auto_columns": null,
            "grid_auto_flow": null,
            "grid_auto_rows": null,
            "grid_column": null,
            "grid_gap": null,
            "grid_row": null,
            "grid_template_areas": null,
            "grid_template_columns": null,
            "grid_template_rows": null,
            "height": null,
            "justify_content": null,
            "justify_items": null,
            "left": null,
            "margin": null,
            "max_height": null,
            "max_width": null,
            "min_height": null,
            "min_width": null,
            "object_fit": null,
            "object_position": null,
            "order": null,
            "overflow": null,
            "overflow_x": null,
            "overflow_y": null,
            "padding": null,
            "right": null,
            "top": null,
            "visibility": null,
            "width": null
          }
        },
        "ff00810d8d0e472b813144b0a4c278eb": {
          "model_module": "@jupyter-widgets/base",
          "model_name": "LayoutModel",
          "model_module_version": "1.2.0",
          "state": {
            "_model_module": "@jupyter-widgets/base",
            "_model_module_version": "1.2.0",
            "_model_name": "LayoutModel",
            "_view_count": null,
            "_view_module": "@jupyter-widgets/base",
            "_view_module_version": "1.2.0",
            "_view_name": "LayoutView",
            "align_content": null,
            "align_items": null,
            "align_self": null,
            "border": null,
            "bottom": null,
            "display": null,
            "flex": null,
            "flex_flow": null,
            "grid_area": null,
            "grid_auto_columns": null,
            "grid_auto_flow": null,
            "grid_auto_rows": null,
            "grid_column": null,
            "grid_gap": null,
            "grid_row": null,
            "grid_template_areas": null,
            "grid_template_columns": null,
            "grid_template_rows": null,
            "height": null,
            "justify_content": null,
            "justify_items": null,
            "left": null,
            "margin": null,
            "max_height": null,
            "max_width": null,
            "min_height": null,
            "min_width": null,
            "object_fit": null,
            "object_position": null,
            "order": null,
            "overflow": null,
            "overflow_x": null,
            "overflow_y": null,
            "padding": null,
            "right": null,
            "top": null,
            "visibility": null,
            "width": null
          }
        },
        "5b525d24c36449c287c4054296972a38": {
          "model_module": "@jupyter-widgets/controls",
          "model_name": "DescriptionStyleModel",
          "model_module_version": "1.5.0",
          "state": {
            "_model_module": "@jupyter-widgets/controls",
            "_model_module_version": "1.5.0",
            "_model_name": "DescriptionStyleModel",
            "_view_count": null,
            "_view_module": "@jupyter-widgets/base",
            "_view_module_version": "1.2.0",
            "_view_name": "StyleView",
            "description_width": ""
          }
        },
        "049cbb6601514aecaa80c03e741bcdf2": {
          "model_module": "@jupyter-widgets/base",
          "model_name": "LayoutModel",
          "model_module_version": "1.2.0",
          "state": {
            "_model_module": "@jupyter-widgets/base",
            "_model_module_version": "1.2.0",
            "_model_name": "LayoutModel",
            "_view_count": null,
            "_view_module": "@jupyter-widgets/base",
            "_view_module_version": "1.2.0",
            "_view_name": "LayoutView",
            "align_content": null,
            "align_items": null,
            "align_self": null,
            "border": null,
            "bottom": null,
            "display": null,
            "flex": null,
            "flex_flow": null,
            "grid_area": null,
            "grid_auto_columns": null,
            "grid_auto_flow": null,
            "grid_auto_rows": null,
            "grid_column": null,
            "grid_gap": null,
            "grid_row": null,
            "grid_template_areas": null,
            "grid_template_columns": null,
            "grid_template_rows": null,
            "height": null,
            "justify_content": null,
            "justify_items": null,
            "left": null,
            "margin": null,
            "max_height": null,
            "max_width": null,
            "min_height": null,
            "min_width": null,
            "object_fit": null,
            "object_position": null,
            "order": null,
            "overflow": null,
            "overflow_x": null,
            "overflow_y": null,
            "padding": null,
            "right": null,
            "top": null,
            "visibility": null,
            "width": null
          }
        },
        "b140b6a41cd948a3afd89ae04b963ce3": {
          "model_module": "@jupyter-widgets/controls",
          "model_name": "ProgressStyleModel",
          "model_module_version": "1.5.0",
          "state": {
            "_model_module": "@jupyter-widgets/controls",
            "_model_module_version": "1.5.0",
            "_model_name": "ProgressStyleModel",
            "_view_count": null,
            "_view_module": "@jupyter-widgets/base",
            "_view_module_version": "1.2.0",
            "_view_name": "StyleView",
            "bar_color": null,
            "description_width": ""
          }
        },
        "3f5ad5b0988a42348ab3680f645ebec5": {
          "model_module": "@jupyter-widgets/base",
          "model_name": "LayoutModel",
          "model_module_version": "1.2.0",
          "state": {
            "_model_module": "@jupyter-widgets/base",
            "_model_module_version": "1.2.0",
            "_model_name": "LayoutModel",
            "_view_count": null,
            "_view_module": "@jupyter-widgets/base",
            "_view_module_version": "1.2.0",
            "_view_name": "LayoutView",
            "align_content": null,
            "align_items": null,
            "align_self": null,
            "border": null,
            "bottom": null,
            "display": null,
            "flex": null,
            "flex_flow": null,
            "grid_area": null,
            "grid_auto_columns": null,
            "grid_auto_flow": null,
            "grid_auto_rows": null,
            "grid_column": null,
            "grid_gap": null,
            "grid_row": null,
            "grid_template_areas": null,
            "grid_template_columns": null,
            "grid_template_rows": null,
            "height": null,
            "justify_content": null,
            "justify_items": null,
            "left": null,
            "margin": null,
            "max_height": null,
            "max_width": null,
            "min_height": null,
            "min_width": null,
            "object_fit": null,
            "object_position": null,
            "order": null,
            "overflow": null,
            "overflow_x": null,
            "overflow_y": null,
            "padding": null,
            "right": null,
            "top": null,
            "visibility": null,
            "width": null
          }
        },
        "d2cea6f780064abb95e034ce089dc5a7": {
          "model_module": "@jupyter-widgets/controls",
          "model_name": "DescriptionStyleModel",
          "model_module_version": "1.5.0",
          "state": {
            "_model_module": "@jupyter-widgets/controls",
            "_model_module_version": "1.5.0",
            "_model_name": "DescriptionStyleModel",
            "_view_count": null,
            "_view_module": "@jupyter-widgets/base",
            "_view_module_version": "1.2.0",
            "_view_name": "StyleView",
            "description_width": ""
          }
        },
        "0075c741e21347c3bc3dc4ee24b750c7": {
          "model_module": "@jupyter-widgets/controls",
          "model_name": "HBoxModel",
          "model_module_version": "1.5.0",
          "state": {
            "_dom_classes": [],
            "_model_module": "@jupyter-widgets/controls",
            "_model_module_version": "1.5.0",
            "_model_name": "HBoxModel",
            "_view_count": null,
            "_view_module": "@jupyter-widgets/controls",
            "_view_module_version": "1.5.0",
            "_view_name": "HBoxView",
            "box_style": "",
            "children": [
              "IPY_MODEL_0be5e0386df64e25864745c7a1f67eeb",
              "IPY_MODEL_f258e448ac9045a1990bec312da0b70d",
              "IPY_MODEL_3658ac66a36a42468f5c7d3502e3c448"
            ],
            "layout": "IPY_MODEL_9ec1a73b9eb7443c988c703874a61360"
          }
        },
        "0be5e0386df64e25864745c7a1f67eeb": {
          "model_module": "@jupyter-widgets/controls",
          "model_name": "HTMLModel",
          "model_module_version": "1.5.0",
          "state": {
            "_dom_classes": [],
            "_model_module": "@jupyter-widgets/controls",
            "_model_module_version": "1.5.0",
            "_model_name": "HTMLModel",
            "_view_count": null,
            "_view_module": "@jupyter-widgets/controls",
            "_view_module_version": "1.5.0",
            "_view_name": "HTMLView",
            "description": "",
            "description_tooltip": null,
            "layout": "IPY_MODEL_17a4d05266494911ad9f403c83ee1747",
            "placeholder": "​",
            "style": "IPY_MODEL_a1c3dda0d74946bf98db093079d2a7e6",
            "value": ""
          }
        },
        "f258e448ac9045a1990bec312da0b70d": {
          "model_module": "@jupyter-widgets/controls",
          "model_name": "FloatProgressModel",
          "model_module_version": "1.5.0",
          "state": {
            "_dom_classes": [],
            "_model_module": "@jupyter-widgets/controls",
            "_model_module_version": "1.5.0",
            "_model_name": "FloatProgressModel",
            "_view_count": null,
            "_view_module": "@jupyter-widgets/controls",
            "_view_module_version": "1.5.0",
            "_view_name": "ProgressView",
            "bar_style": "success",
            "description": "",
            "description_tooltip": null,
            "layout": "IPY_MODEL_ba4eb5b0f8e44c44bae79aebd6c1c670",
            "max": 170498071,
            "min": 0,
            "orientation": "horizontal",
            "style": "IPY_MODEL_8e028dee38c14c59acd11a6b741cdf12",
            "value": 170498071
          }
        },
        "3658ac66a36a42468f5c7d3502e3c448": {
          "model_module": "@jupyter-widgets/controls",
          "model_name": "HTMLModel",
          "model_module_version": "1.5.0",
          "state": {
            "_dom_classes": [],
            "_model_module": "@jupyter-widgets/controls",
            "_model_module_version": "1.5.0",
            "_model_name": "HTMLModel",
            "_view_count": null,
            "_view_module": "@jupyter-widgets/controls",
            "_view_module_version": "1.5.0",
            "_view_name": "HTMLView",
            "description": "",
            "description_tooltip": null,
            "layout": "IPY_MODEL_90e70b2218f644bd9ebc380a993fb819",
            "placeholder": "​",
            "style": "IPY_MODEL_2389a9354ef747ea833d34dc90c4d74a",
            "value": " 170499072/? [00:02&lt;00:00, 56373879.85it/s]"
          }
        },
        "9ec1a73b9eb7443c988c703874a61360": {
          "model_module": "@jupyter-widgets/base",
          "model_name": "LayoutModel",
          "model_module_version": "1.2.0",
          "state": {
            "_model_module": "@jupyter-widgets/base",
            "_model_module_version": "1.2.0",
            "_model_name": "LayoutModel",
            "_view_count": null,
            "_view_module": "@jupyter-widgets/base",
            "_view_module_version": "1.2.0",
            "_view_name": "LayoutView",
            "align_content": null,
            "align_items": null,
            "align_self": null,
            "border": null,
            "bottom": null,
            "display": null,
            "flex": null,
            "flex_flow": null,
            "grid_area": null,
            "grid_auto_columns": null,
            "grid_auto_flow": null,
            "grid_auto_rows": null,
            "grid_column": null,
            "grid_gap": null,
            "grid_row": null,
            "grid_template_areas": null,
            "grid_template_columns": null,
            "grid_template_rows": null,
            "height": null,
            "justify_content": null,
            "justify_items": null,
            "left": null,
            "margin": null,
            "max_height": null,
            "max_width": null,
            "min_height": null,
            "min_width": null,
            "object_fit": null,
            "object_position": null,
            "order": null,
            "overflow": null,
            "overflow_x": null,
            "overflow_y": null,
            "padding": null,
            "right": null,
            "top": null,
            "visibility": null,
            "width": null
          }
        },
        "17a4d05266494911ad9f403c83ee1747": {
          "model_module": "@jupyter-widgets/base",
          "model_name": "LayoutModel",
          "model_module_version": "1.2.0",
          "state": {
            "_model_module": "@jupyter-widgets/base",
            "_model_module_version": "1.2.0",
            "_model_name": "LayoutModel",
            "_view_count": null,
            "_view_module": "@jupyter-widgets/base",
            "_view_module_version": "1.2.0",
            "_view_name": "LayoutView",
            "align_content": null,
            "align_items": null,
            "align_self": null,
            "border": null,
            "bottom": null,
            "display": null,
            "flex": null,
            "flex_flow": null,
            "grid_area": null,
            "grid_auto_columns": null,
            "grid_auto_flow": null,
            "grid_auto_rows": null,
            "grid_column": null,
            "grid_gap": null,
            "grid_row": null,
            "grid_template_areas": null,
            "grid_template_columns": null,
            "grid_template_rows": null,
            "height": null,
            "justify_content": null,
            "justify_items": null,
            "left": null,
            "margin": null,
            "max_height": null,
            "max_width": null,
            "min_height": null,
            "min_width": null,
            "object_fit": null,
            "object_position": null,
            "order": null,
            "overflow": null,
            "overflow_x": null,
            "overflow_y": null,
            "padding": null,
            "right": null,
            "top": null,
            "visibility": null,
            "width": null
          }
        },
        "a1c3dda0d74946bf98db093079d2a7e6": {
          "model_module": "@jupyter-widgets/controls",
          "model_name": "DescriptionStyleModel",
          "model_module_version": "1.5.0",
          "state": {
            "_model_module": "@jupyter-widgets/controls",
            "_model_module_version": "1.5.0",
            "_model_name": "DescriptionStyleModel",
            "_view_count": null,
            "_view_module": "@jupyter-widgets/base",
            "_view_module_version": "1.2.0",
            "_view_name": "StyleView",
            "description_width": ""
          }
        },
        "ba4eb5b0f8e44c44bae79aebd6c1c670": {
          "model_module": "@jupyter-widgets/base",
          "model_name": "LayoutModel",
          "model_module_version": "1.2.0",
          "state": {
            "_model_module": "@jupyter-widgets/base",
            "_model_module_version": "1.2.0",
            "_model_name": "LayoutModel",
            "_view_count": null,
            "_view_module": "@jupyter-widgets/base",
            "_view_module_version": "1.2.0",
            "_view_name": "LayoutView",
            "align_content": null,
            "align_items": null,
            "align_self": null,
            "border": null,
            "bottom": null,
            "display": null,
            "flex": null,
            "flex_flow": null,
            "grid_area": null,
            "grid_auto_columns": null,
            "grid_auto_flow": null,
            "grid_auto_rows": null,
            "grid_column": null,
            "grid_gap": null,
            "grid_row": null,
            "grid_template_areas": null,
            "grid_template_columns": null,
            "grid_template_rows": null,
            "height": null,
            "justify_content": null,
            "justify_items": null,
            "left": null,
            "margin": null,
            "max_height": null,
            "max_width": null,
            "min_height": null,
            "min_width": null,
            "object_fit": null,
            "object_position": null,
            "order": null,
            "overflow": null,
            "overflow_x": null,
            "overflow_y": null,
            "padding": null,
            "right": null,
            "top": null,
            "visibility": null,
            "width": null
          }
        },
        "8e028dee38c14c59acd11a6b741cdf12": {
          "model_module": "@jupyter-widgets/controls",
          "model_name": "ProgressStyleModel",
          "model_module_version": "1.5.0",
          "state": {
            "_model_module": "@jupyter-widgets/controls",
            "_model_module_version": "1.5.0",
            "_model_name": "ProgressStyleModel",
            "_view_count": null,
            "_view_module": "@jupyter-widgets/base",
            "_view_module_version": "1.2.0",
            "_view_name": "StyleView",
            "bar_color": null,
            "description_width": ""
          }
        },
        "90e70b2218f644bd9ebc380a993fb819": {
          "model_module": "@jupyter-widgets/base",
          "model_name": "LayoutModel",
          "model_module_version": "1.2.0",
          "state": {
            "_model_module": "@jupyter-widgets/base",
            "_model_module_version": "1.2.0",
            "_model_name": "LayoutModel",
            "_view_count": null,
            "_view_module": "@jupyter-widgets/base",
            "_view_module_version": "1.2.0",
            "_view_name": "LayoutView",
            "align_content": null,
            "align_items": null,
            "align_self": null,
            "border": null,
            "bottom": null,
            "display": null,
            "flex": null,
            "flex_flow": null,
            "grid_area": null,
            "grid_auto_columns": null,
            "grid_auto_flow": null,
            "grid_auto_rows": null,
            "grid_column": null,
            "grid_gap": null,
            "grid_row": null,
            "grid_template_areas": null,
            "grid_template_columns": null,
            "grid_template_rows": null,
            "height": null,
            "justify_content": null,
            "justify_items": null,
            "left": null,
            "margin": null,
            "max_height": null,
            "max_width": null,
            "min_height": null,
            "min_width": null,
            "object_fit": null,
            "object_position": null,
            "order": null,
            "overflow": null,
            "overflow_x": null,
            "overflow_y": null,
            "padding": null,
            "right": null,
            "top": null,
            "visibility": null,
            "width": null
          }
        },
        "2389a9354ef747ea833d34dc90c4d74a": {
          "model_module": "@jupyter-widgets/controls",
          "model_name": "DescriptionStyleModel",
          "model_module_version": "1.5.0",
          "state": {
            "_model_module": "@jupyter-widgets/controls",
            "_model_module_version": "1.5.0",
            "_model_name": "DescriptionStyleModel",
            "_view_count": null,
            "_view_module": "@jupyter-widgets/base",
            "_view_module_version": "1.2.0",
            "_view_name": "StyleView",
            "description_width": ""
          }
        }
      }
    }
  },
  "nbformat": 4,
  "nbformat_minor": 0
}